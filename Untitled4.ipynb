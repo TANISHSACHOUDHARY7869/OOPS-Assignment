{
  "nbformat": 4,
  "nbformat_minor": 0,
  "metadata": {
    "colab": {
      "provenance": []
    },
    "kernelspec": {
      "name": "python3",
      "display_name": "Python 3"
    },
    "language_info": {
      "name": "python"
    }
  },
  "cells": [
    {
      "cell_type": "markdown",
      "source": [
        "1)  What is Object-Oriented Programming (OOP)?\n",
        "\n",
        "Ans:- Object-Oriented Programming (OOP) is a programming paradigm based on the concept of \"objects\", which are instances of classes. It organizes software design around data, or objects, rather than functions and logic. Objects can contain data, in the form of fields (often called attributes or properties), and code, in the form of methods (functions associated with the object).\n",
        "\n",
        "Key Concepts of OOP:\n",
        "1. Class\n",
        "A blueprint for creating objects. It defines a set of attributes and methods that the created objects will have.\n",
        "\n",
        "2. Object\n",
        "An instance of a class. It holds actual values and can use the methods defined by its class.\n",
        "\n",
        "3. Encapsulation\n",
        "Bundling of data and methods that operate on that data within one unit (class). It helps protect the internal state of the object from unintended interference.\n",
        "\n",
        "4. Abstraction\n",
        "Hiding the complex implementation details and showing only the essential features of the object.\n",
        "\n",
        "5. Inheritance\n",
        "A mechanism for one class (child or subclass) to inherit attributes and methods from another class (parent or superclass), promoting code reuse.\n",
        "\n",
        "6. Polymorphism\n",
        "The ability to present the same interface for different underlying forms (data types). For example, a single method can work differently depending on the object calling it.\n",
        "\n",
        "\n",
        "2) What is a class in OOP\n",
        "\n",
        "Ans:- In Object-Oriented Programming (OOP), a class is a blueprint or template for creating objects. It defines the structure and behavior (data and functions) that the objects created from the class will have.\n",
        "\n",
        "Think of it like this:\n",
        ".A class is like an architectural blueprint for a house.\n",
        "\n",
        ".An object is an actual house built from that blueprint.\n",
        "\n",
        "A class defines:\n",
        "1.Attributes (also called fields or properties)\n",
        "These are the data members — what the object \"has\".\n",
        "\n",
        "2.Methods (also called functions or behaviors)\n",
        "These are the functions that define what the object can \"do\".\n",
        "\n",
        "\n",
        "3) What is an object in OOP?\n",
        "\n",
        "Ans:- In Object-Oriented Programming (OOP), an object is a concrete instance of a class.\n",
        "\n",
        "If a class is the blueprint, an object is the actual item built from that blueprint, with its own unique values for the properties defined in the class.\n",
        "\n",
        "Characteristics of an Object:\n",
        "An object:\n",
        "\n",
        ".Has state → stored in its attributes (data/properties).\n",
        "\n",
        ".Has behavior → defined by its methods (functions).\n",
        "\n",
        ".Is created from a class → the object follows the structure and behavior outlined in the class.\n",
        "\n",
        "4) What is the difference between abstraction and encapsulation\n",
        "\n",
        "Ans:- Great question! Abstraction and Encapsulation are both fundamental concepts in Object-Oriented Programming (OOP), and although they are related, they serve different purposes.\n",
        "\n",
        "🔍 Abstraction vs Encapsulation\n",
        "\n",
        " Feature                       Abstraction\t          Encapsulation\n",
        ".Definition\t     \t          . Hiding complex       .  Hiding the internal state\n",
        "                              implementation          of an object and\n",
        "                              details and             all interaction to be\n",
        "                              showing only the        performed through methods.\n",
        "                              essential features.\n",
        "\n",
        ".Purpose\t                  .To reduce complexity    .To protect data and ensure\n",
        "                             and increase              controlled access/\n",
        "                             readability by            modification\n",
        "                             exposing only\n",
        "                             necessary parts.\n",
        "\n",
        "\n",
        ".Focus\t                   .What an object does      .How an object hides\n",
        "                            (not how it does it).     its data and logic.\n",
        "\n",
        "\n",
        ".Achieved by\t             . Abstract classes         .Access modifiers\n",
        "                            interfaces and            (like private\n",
        "                            method overriding          protected, public),\n",
        "                                                      getters/setters.\n",
        "\n",
        ".Real-world Example\t       .Using a TV remote        .Keeping the circuitry\n",
        "                            without knowing           inside the TV hidden\n",
        "                            how it works              and controlling it via\n",
        "                            internally.               buttons.\n",
        "\n",
        "\n",
        "5) What are dunder methods in Python?\n",
        "\n",
        "Ans:- Dunder methods in Python (short for \"double underscore\" methods) are special methods that have double underscores before and after their names, like __init__, __str__, __len__, etc.\n",
        "\n",
        "They’re also called magic methods or special methods, and they allow you to customize the behavior of objects in Python—especially how they interact with built-in functions and operators.\n",
        "\n",
        "🔧 Common Dunder Methods:\n",
        "\n",
        "Dunder Method\tPurpose\n",
        "__init__\tConstructor: Initializes a new object.\n",
        "__str__\tReturns a string representation (used by str() or print()).\n",
        "__repr__\tDeveloper-friendly string representation (used in debugging).\n",
        "__len__\tReturns the length of the object (used by len()).\n",
        "__getitem__\tEnables indexing like obj[index].\n",
        "__setitem__\tSets a value using index.\n",
        "__delitem__\tDeletes an item by index.\n",
        "__add__\tDefines behavior for the + operator.\n",
        "__eq__, __lt__, etc.\tComparison operators (==, <, etc.).\n",
        "\n",
        "\n",
        "6) Explain the concept of inheritance in OOP?\n",
        "\n",
        "Ans:- 🧬 Inheritance in OOP — Explained\n",
        "Inheritance is a core concept in Object-Oriented Programming (OOP) that allows one class (called a child or subclass) to inherit properties and behaviors (attributes and methods) from another class (called a parent or superclass).\n",
        "\n",
        "🎯 Purpose of Inheritance:\n",
        ".Code reuse: Avoid rewriting the same code in multiple classes.\n",
        "\n",
        ".Extensibility: Easily add or override functionality in child classes.\n",
        "\n",
        ".Maintainability: Centralize common behavior in one place (the parent).\n",
        "\n",
        "🧱 Real-World Analogy:\n",
        "Think of a \"Vehicle\" as a base class. A \"Car\" and a \"Bike\" are specific types of vehicles. They inherit general vehicle properties (like speed, fuel) but can also have unique features (like number of wheels, roof type).\n",
        "\n",
        "\n",
        "🌐 Types of Inheritance (in many OOP languages, including Python):\n",
        "1.Single inheritance – One child inherits from one parent.\n",
        "\n",
        "2.Multiple inheritance – One child inherits from multiple parents.\n",
        "\n",
        "3.Multilevel inheritance – Child inherits from a parent, which is also a child of another class.\n",
        "\n",
        "4.Hierarchical inheritance – Multiple children inherit from the same parent.\n",
        "\n",
        "\n",
        "7) What is polymorphism in OOP?\n",
        "\n",
        "Ans:- 🌀 What is Polymorphism in OOP?\n",
        "Polymorphism is a key concept in Object-Oriented Programming (OOP) that means \"many forms.\" It allows different objects to be treated through a common interface, even if they behave differently.\n",
        "\n",
        "🎯 Purpose:\n",
        "Polymorphism lets you write flexible and reusable code by allowing objects of different classes to be used interchangeably, as long as they follow the same interface or method name.\n",
        "\n",
        "🔑 Two Main Types of Polymorphism:\n",
        "Type\tDescription\n",
        "Compile-time (Static)\tAchieved via method overloading or operator overloading (not in Python).\n",
        "Runtime (Dynamic)\tAchieved via method overriding — common in Python and most OOP languages.\n",
        "\n",
        "🧱 Real-world Analogy:\n",
        "Think of the word “drive”:\n",
        "\n",
        "You can “drive” a car, bike, or truck.\n",
        "\n",
        "The action is the same in name, but the actual implementation (how it's done) differs.\n",
        "\n",
        "✅ Why Use Polymorphism?\n",
        ".Promotes code flexibility and scalability\n",
        "\n",
        ".Encourages interface-driven design\n",
        "\n",
        ".Supports open/closed principle (open to extension, closed to modification)\n",
        "\n",
        "8) How is encapsulation achieved in Python?\n",
        "\n",
        "Ans:- 🔐 How is Encapsulation Achieved in Python?\n",
        "Encapsulation in Python is achieved by restricting direct access to an object’s internal data (attributes) and providing controlled access through methods (getters/setters). This protects the data from unintended interference or misuse.\n",
        "\n",
        "🧱 Key Concepts of Encapsulation in Python:\n",
        "Concept\tDescription\n",
        "Private attributes\tPrefix with double underscore (__) to restrict access.\n",
        "Protected attributes\tPrefix with a single underscore (_) to indicate \"internal use only\".\n",
        "Getters/Setters\tMethods used to access or modify private data safely.\n",
        "\n",
        "9) What is a constructor in Python?\n",
        "\n",
        "Ans:- :\n",
        "🏗️ What is a Constructor in Python?\n",
        "In Python, a constructor is a special method used to initialize a newly created object of a class. It sets up the object with default or user-provided values when it's instantiated.\n",
        "\n",
        "🧠 The Constructor in Python:\n",
        "Python uses the special method called __init__ as its constructor.\n",
        "\n",
        "\n",
        "10) You want alternative constructors?\n",
        "\n",
        "Ans:- 🧑‍🏫 Class and Static Methods in Python\n",
        "In Python, besides instance methods (which operate on a specific object), you can also define class methods and static methods. These are used when you want behavior that isn’t tied directly to a specific object (self), but to the class itself or not to any context at all.\n",
        "\n",
        "1️⃣ Class Method\n",
        "A class method is a method that is bound to the class and not the instance. It takes cls as its first argument, which refers to the class, not the object.\n",
        "\n",
        "📌 Defined with: @classmethod\n",
        "✅ Use when:\n",
        ".You need to access or modify class-level data.\n",
        "\n",
        ".You want alternative constructors.\n",
        "\n",
        " 2️⃣ Static Method\n",
        "A static method is a method that doesn't take self or cls as the first argument. It’s just like a regular function, but it belongs to the class’s namespace.\n",
        "\n",
        "📌 Defined with: @staticmethod\n",
        "✅ Use when:\n",
        ".You don’t need access to the class or instance.\n",
        "\n",
        ".You want to group related utility functions within a class.\n",
        "\n",
        "\n",
        "🔁 Comparison Table:\n",
        "Feature\tInstance Method\tClass Method\tStatic Method\n",
        "First Arg\tself (object)\tcls (class)\tNo automatic first argument\n",
        "Decorator\tNone\t@classmethod\t@staticmethod\n",
        "Access Instance?\t✅ Yes\t❌ No\t❌ No\n",
        "Access Class?\t❌ No\t✅ Yes\t❌ No\n",
        "Common Use\tAccess/modify object data\tAccess/modify class data\tUtility/helper functions\n",
        "\n",
        "11) What is method overloading in Python?\n",
        "\n",
        "Ans:-:\n",
        "🧑‍💻 What is Method Overloading in Python?\n",
        "Method Overloading is a feature in many programming languages where you can define multiple methods with the same name but different parameters. Python, however, doesn't support traditional method overloading directly as seen in languages like Java or C++.\n",
        "\n",
        "In Python, if you define a method with the same name more than once, the last definition will overwrite the previous ones. But you can simulate method overloading by using default arguments, variable-length arguments, or conditionals.\n",
        "\n",
        "🧠 How to Achieve Method Overloading in Python?\n",
        "Here are some common approaches to simulate method overloading:\n",
        "\n",
        "1️⃣ Using Default Arguments\n",
        "You can specify default values for method parameters. This way, a method can behave differently based on the number or type of arguments passed.\n",
        "\n",
        "2️⃣ Using Variable-Length Arguments (*args, **kwargs)\n",
        "You can use *args (for positional arguments) and **kwargs (for keyword arguments) to accept any number of arguments. This allows you to handle varying numbers of arguments.\n",
        "\n",
        "3️⃣ Using Conditional Statements Inside a Method\n",
        "You can use conditionals to check the types or number of arguments and behave accordingly\n",
        "\n",
        ".\n",
        "\n",
        "🧑‍🏫 Summary:\n",
        "Method Type\tExample Usage\tHow It's Achieved\n",
        "Traditional Overloading\tNot natively supported in Python\tSimulated using default arguments, variable-length arguments, or conditionals\n",
        "Default Arguments\tdef add(self, a, b=0)\tProvides default values for parameters\n",
        "Variable-Length Arguments\tdef add(self, *args)\tUses *args or **kwargs to accept variable arguments\n",
        "Conditionals Inside Method\tif len(args) == 1:\tUses if statements to check arguments and apply different logic\n",
        "\n",
        "\n",
        "12) What is method overriding in OOP?\n",
        "\n",
        "Ans:- :🔄 What is Method Overriding in OOP?\n",
        "Method Overriding is a feature in Object-Oriented Programming (OOP) where a child class provides a specific implementation of a method that is already defined in its parent class. The method in the child class has the same name, same parameters, and same return type as the method in the parent class.\n",
        "\n",
        "🎯 Purpose of Method Overriding:\n",
        ".Allows a child class to modify or extend the functionality of a method inherited from a parent class.\n",
        "\n",
        ".It provides custom behavior specific to the child class while maintaining the interface defined by the parent class.\n",
        "\n",
        "\n",
        "🎯 How It Works:\n",
        ".The speak() method is defined in the parent class Animal.\n",
        "\n",
        ".Both the Dog and Cat classes override the speak() method with their own versions to provide behavior specific to dogs and cats.\n",
        "\n",
        ".When you call speak() on an object of Dog or Cat, it calls the overridden method, not the parent class method.\n",
        "\n",
        "🧑‍🏫 Key Points About Method Overriding:\n",
        "1.Same Method Signature: The method in the child class must have the same name, same parameters, and same return type as the method in the parent class.\n",
        "\n",
        "2.Dynamic Dispatch: Method overriding supports runtime polymorphism. When an overridden method is called, the method in the child class is executed, even if the reference is of the parent class type.\n",
        "\n",
        "3.super() Function: You can still call the parent class's method using the super() function inside the overridden method.\n",
        "\n",
        "\n",
        "13) What is a property decorator in Python?\n",
        "\n",
        "Ans:- 🏷️ What is a Property Decorator in Python?\n",
        "In Python, the @property decorator is used to define getter methods in a class, allowing you to access attributes like they are regular attributes, but with the ability to define custom behavior behind the scenes.\n",
        "\n",
        "The property decorator allows you to manage attribute access (getting, setting, and deleting) in a clean, Pythonic way while keeping the interface of your class simple and intuitive.\n",
        "\n",
        "🎯 Purpose of the @property Decorator:\n",
        ".Encapsulate an attribute so that you can define custom logic for getting or setting its value.\n",
        "\n",
        ".Improve readability by allowing methods to behave like attributes.\n",
        "\n",
        ".Avoid direct access to an attribute, while still allowing access to it using the same syntax as for attributes.\n",
        "\n",
        "🔧 How to Use @property for Setter and Getter Methods:\n",
        "You can define a getter using the @property decorator, and a setter using @<property_name>.setter. This allows you to control how an attribute is set.\n",
        "\n",
        "14) Why is polymorphism important in OOP?\n",
        "\n",
        "Ans:- :\n",
        "🔄 Why is Polymorphism Important in OOP?\n",
        "Polymorphism is one of the core principles of Object-Oriented Programming (OOP). It allows objects of different classes to be treated as objects of a common superclass. Essentially, polymorphism allows the same method or function to behave differently based on the object it is acting upon.\n",
        "\n",
        "Polymorphism is important for several reasons:\n",
        "\n",
        "🎯 1. Code Reusability and Maintainability\n",
        ".Polymorphism allows you to write generic code that works with any class that shares the same method signature. This leads to reusable code.\n",
        "\n",
        ".You can define methods that apply to a wide variety of objects, thus reducing redundancy in your codebase.\n",
        "\n",
        "🎯 2. Flexibility and Extensibility\n",
        ".Polymorphism makes your code more flexible because new types of objects can be introduced without changing the code that uses polymorphism. As long as the new class has the same method signature, it can be treated just like the old ones.\n",
        "\n",
        ".It promotes the Open/Closed Principle: your code is open for extension but closed for modification.\n",
        "\n",
        "🎯 3. Supports Dynamic Method Dispatch\n",
        ".Polymorphism is often used to implement dynamic dispatch, meaning that the method to be called is determined at runtime based on the object’s actual type, not its reference type.\n",
        "\n",
        ".This runtime decision allows you to write generic code while maintaining flexibility.\n",
        "\n",
        "🎯 4. Simplifies Code and Makes It More Intuitive\n",
        ".Polymorphism allows you to design more intuitive and clean APIs where you don't need to worry about the specific type of the object you're dealing with, as long as the object implements the correct methods.\n",
        "\n",
        ".It abstracts away complexity and lets the user interact with objects in a uniform manner.\n",
        "\n",
        ".\n",
        "\n",
        "🎯 5. Improves Code Readability\n",
        ".Polymorphism makes the code more readable because you can treat different objects in a unified way. This reduces the need for complex conditionals or type-checking.\n",
        "\n",
        ".You can design cleaner, more high-level abstractions.\n",
        "\n",
        "14) What is an abstract class in Python?\n",
        "Ans:- 🧑‍🏫 What is an Abstract Class in Python?\n",
        "An abstract class in Python is a class that cannot be instantiated on its own and is meant to be inherited by other classes. It defines a common interface for its subclasses, ensuring that certain methods are implemented in any subclass.\n",
        "\n",
        "In Python, abstract classes are defined using the abc module, which stands for Abstract Base Classes. An abstract class may include abstract methods, which are methods that are declared but not implemented in the abstract class itself. Subclasses that inherit from the abstract class are required to implement these abstract methods.\n",
        "\n",
        "🎯 Key Points about Abstract Classes:\n",
        "1.Cannot Be Instantiated: You cannot create an instance of an abstract class directly.\n",
        "\n",
        "2.Provides a Blueprint: It provides a blueprint for other classes that inherit from it.\n",
        "\n",
        "3.Abstract Methods: Methods defined in the abstract class that must be implemented by subclasses.\n",
        "\n",
        "4.Enforces Consistency: It ensures that all subclasses implement specific methods, enforcing a certain interface or contract.\n",
        "\n",
        "\n",
        "🧑‍🏫 How It Works:\n",
        "The Animal class is marked as abstract by inheriting from ABC and defining abstract methods with the @abstractmethod decorator.\n",
        "\n",
        "The Dog and Cat classes are required to provide implementations for the speak() and move() methods.\n",
        "\n",
        "You cannot create an instance of Animal directly because it's abstract, but you can create instances of Dog and Cat because they implement the abstract methods.\n",
        "\n",
        "🎯 Why Use Abstract Classes?\n",
        "Enforce Method Implementation: Abstract classes define a clear interface that subclasses must follow, ensuring that all subclasses have certain methods.\n",
        "\n",
        "Design Flexibility: Abstract classes allow you to define a common interface for related classes while leaving specific details to be implemented by the subclasses.\n",
        "\n",
        "Code Consistency: When you define abstract methods in the base class, it guarantees that subclasses will have those methods, maintaining consistency in the class hierarchy.\n",
        "\n",
        "📝 Summary of Abstract Class Features:\n",
        "Feature\tDescription\n",
        "Cannot be instantiated\tAbstract classes can't be instantiated directly.\n",
        "Must be inherited\tSubclasses must implement abstract methods to be instantiated.\n",
        "Abstract methods\tAbstract methods are defined in the abstract class but must be implemented by subclasses.\n",
        "Blueprint for subclasses\tProvides a common interface for subclasses to follow.\n",
        "\n",
        "\n",
        "\n",
        "15) What are the advantages of OOP?\n",
        "\n",
        "Ans:- :\n",
        "🧑‍🏫 Advantages of Object-Oriented Programming (OOP)\n",
        "Object-Oriented Programming (OOP) is a widely used programming paradigm that organizes code into objects which contain both data and methods. OOP brings many benefits that enhance software design, maintainability, and scalability. Here are the key advantages of OOP:\n",
        "\n",
        "🎯 1. Modularity (Encapsulation)\n",
        ".Encapsulation allows you to group related data and functions together into objects (or classes). Each object is self-contained, and its internal workings are hidden from the outside world.\n",
        "\n",
        ".This modular structure helps in organizing code, which is easier to understand and maintain.\n",
        "\n",
        "🎯2. Reusability (Inheritance)\n",
        ".Inheritance allows you to create new classes based on existing ones, inheriting attributes and methods. This promotes code reuse and reduces redundancy.\n",
        "\n",
        ".You can extend functionality by modifying or adding new behavior without changing the existing code.\n",
        "\n",
        "🎯 3. Maintainability\n",
        ".OOP makes it easier to maintain and update code because of modularity and the ability to reuse components. Changes can often be made to a single object or class without affecting the entire system.\n",
        "\n",
        ".Encapsulation ensures that the internal state of an object is hidden and can only be modified through well-defined interfaces (methods).\n",
        "\n",
        "🎯 4. Scalability\n",
        ".OOP supports the creation of large, complex systems by organizing them into manageable, logical components (objects). This helps in building scalable applications that can grow over time.\n",
        "\n",
        ".With inheritance and polymorphism, OOP allows easy expansion without modifying the existing structure drastically.\n",
        "\n",
        "🎯 5. Flexibility and Extensibility (Polymorphism)\n",
        ".Polymorphism allows the same method or function to work on objects of different classes. This provides flexibility in designing systems that can work with different types of objects, even if they share the same interface.\n",
        "\n",
        ".It also makes your code more extensible, as new subclasses can be added with minimal changes to existing code.\n",
        "\n",
        ".\n",
        "\n",
        "🎯 6. Improved Collaboration and Design\n",
        ".In a team environment, OOP allows multiple developers to work on different parts of a project simultaneously. Each developer can work on a different class or module without causing conflicts.\n",
        "\n",
        ".OOP also supports clear design through the use of classes and objects, which makes it easier to understand the system structure\n",
        "\n",
        "🎯 7. Easier Debugging and Testing\n",
        ".With OOP, you can test individual components (classes or objects) in isolation. This makes debugging easier, as you can isolate problems to specific objects or methods.\n",
        "\n",
        ".Because objects are self-contained, it’s easier to track down issues related to particular behaviors or data within those objects.\n",
        "\n",
        "🎯 8. Real-World Modeling\n",
        ".OOP allows you to model real-world entities more closely. Classes represent real-world objects, and methods define their behaviors. This makes the code more intuitive and easier to relate to for developers.\n",
        "\n",
        "16)  What is multiple inheritance in Python?\n",
        "Ans:- :\n",
        "🧑‍🏫 What is Multiple Inheritance in Python?\n",
        "Multiple inheritance in Python refers to a feature where a class can inherit from more than one class. This allows a class to inherit attributes and methods from multiple parent classes, combining the behaviors of each.\n",
        "\n",
        "This is different from single inheritance, where a class can only inherit from one parent class.\n",
        "\n",
        "🎯 Key Points About Multiple Inheritance:\n",
        "1.Inheritance from Multiple Classes: A class can inherit from two or more parent classes.\n",
        "\n",
        "2.Merging Behaviors: The subclass can inherit methods and attributes from all parent classes, which can be useful for combining functionality from different classes.\n",
        "\n",
        "3.Method Resolution Order (MRO): When using multiple inheritance, Python follows a specific order to resolve method calls. This is known as the Method Resolution Order (MRO), which determines the order in which methods are inherited and called.\n",
        "\n",
        "\n",
        "🎯 Advantages of Multiple Inheritance:\n",
        "1.Code Reusability: Multiple inheritance allows a class to reuse behavior from more than one parent class, leading to less code duplication.\n",
        "\n",
        "2.Combining Behaviors: You can combine behaviors from multiple classes into a single class. This is useful for creating classes that exhibit characteristics from several domains (like Bat being both an Animal and Flyable).\n",
        "\n",
        "3.Increased Flexibility: Multiple inheritance provides more flexibility when designing complex systems, as you can mix and match different classes' functionalities.\n",
        "\n",
        "🎯 Challenges of Multiple Inheritance:\n",
        "1.Diamond Problem: The diamond problem occurs when a class inherits from two classes that have a common ancestor. This can cause ambiguity if both parent classes implement the same method, and Python doesn’t know which one to use.\n",
        "\n",
        "Python solves this issue with the C3 linearization algorithm (Method Resolution Order or MRO) that ensures a predictable order of method resolution.\n",
        "\n",
        "\n",
        "17) Explain the purpose of ‘’__str__’ and ‘__repr__’ ‘ methods in Python?\n",
        "\n",
        "Ans:- :\n",
        "🧑‍🏫 Purpose of __str__ and __repr__ Methods in Python\n",
        "In Python, __str__ and __repr__ are special methods (also known as dunder methods or magic methods) that are used to define the string representations of objects. These methods determine how objects of a class are displayed when printed or represented as strings.\n",
        "\n",
        "While both methods are used for string representation, they serve different purposes:\n",
        "\n",
        "🎯 1. __str__ Method — For User-Friendly String Representation\n",
        ".The __str__ method is used to define a human-readable string representation of an object.\n",
        "\n",
        ".It is meant to give a friendly or informal description of the object, which is suitable for displaying to the user.\n",
        "\n",
        ".This method is called when you use the str() function or when you print an object with print().\n",
        "\n",
        ".\n",
        "\n",
        "🎯 2. __repr__ Method — For Official String Representation\n",
        ".The __repr__ method is used to define an official string representation of an object. It is meant to give a detailed and unambiguous representation of the object that could, ideally, be used to recreate the object.\n",
        "\n",
        ".This method is called when you use the repr() function or when you type an object in the interactive Python shell (REPL). The output is usually more formal or technical.\n",
        "\n",
        ".The general goal of __repr__ is to provide a string that, when passed to the eval() function, would ideally create an object with the same properties (though this isn't always practical).\n",
        "\n",
        "\n",
        "🎯 Differences Between __str__ and __repr__:\n",
        "Aspect\t__str__\t__repr__\n",
        "Purpose\tHuman-readable representation\tUnambiguous, detailed representation\n",
        "When Called\tprint() or str()\trepr(), interactive shell, debugging\n",
        "Target Audience\tEnd users\tDevelopers, debugging, logging\n",
        "Ideal Output\tFriendly, informal description\tDetailed and unambiguous description\n",
        "Example Output\t\"Person: Alice, Age: 30\"\t\"Person('Alice', 30)\"\n",
        "\n",
        "🎯 3. The Relationship Between __str__ and __repr__\n",
        ".If a class does not define a __str__ method, Python will fall back to the __repr__ method when printing the object or calling str().\n",
        "\n",
        ".If __repr__ is also not defined, Python will use the default representation, which typically looks like <__main__.ClassName object at 0x123abc>.\n",
        "\n",
        ".Best practice: Always define both __str__ and __repr__ for your classes, with __repr__ providing a more detailed, accurate description of the object and __str__ providing a simpler, user-friendly output.\n",
        "\n",
        "\n",
        "\n",
        "20) What is the significance of the ‘super()’ function in Python?\n",
        "\n",
        "Ans:-  :\n",
        "🧑‍🏫 Significance of the super() Function in Python\n",
        "In Python, the super() function is used to call methods from a parent class (also known as the superclass) from within a child class (also known as the subclass). It is mainly used to enable method overriding and to call the parent class's version of a method without explicitly referencing the parent class by name.\n",
        "\n",
        "The super() function is particularly useful in inheritance hierarchies and multiple inheritance because it allows you to work with the method resolution order (MRO), ensuring that the correct method is called.\n",
        "\n",
        "🎯 Key Benefits and Purposes of super():\n",
        "1.Access Parent Class Methods: It allows you to call methods from the parent class in a child class, often when you override a method and still need to include the parent class's functionality.\n",
        "\n",
        "2.Avoid Hardcoding Parent Class Name: Using super() avoids hardcoding the parent class's name in the method call, making the code more flexible and maintainable. This is especially helpful in multiple inheritance situations.\n",
        "\n",
        "3.Maintain Method Resolution Order (MRO): In multiple inheritance, super() ensures that the next method in the MRO chain is called, rather than just calling a parent class's method directly.\n",
        "\n",
        "4.Better Code Organization: It helps to keep your code organized by allowing the child class to use the functionality of the parent class without rewriting it.\n",
        "\n",
        "21) What is the significance of the __del__ method in Python?\n",
        "\n",
        "Ans:-:\n",
        "🧑‍🏫 Significance of the __del__ Method in Python\n",
        "The __del__ method in Python is a special method (also known as a destructor) that is called when an object is destroyed or garbage collected. It allows you to define cleanup operations that should occur when an object is no longer in use and is about to be deleted.\n",
        "\n",
        "The primary purpose of __del__ is to manage resource deallocation, such as closing files, network connections, or releasing any other external resources that the object may be using before it is destroyed.\n",
        "\n",
        "However, it is important to understand that Python's garbage collection system is automatic, and the __del__ method is not always called immediately when an object goes out of scope. It is called when the reference count for an object reaches zero and it is eligible for garbage collection.\n",
        "\n",
        ".\n",
        "\n",
        "🎯 How the __del__ Method Works\n",
        ".The __del__ method is automatically invoked when the object is about to be destroyed. This happens when there are no more references to the object, and the Python garbage collector is about to reclaim the memory.\n",
        "\n",
        ".You can use __del__ to perform cleanup operations, such as:\n",
        "\n",
        ".Closing files\n",
        "\n",
        ".Releasing network connections\n",
        "\n",
        ".Deleting temporary resources\n",
        "\n",
        ".Releasing locks\n",
        "\n",
        "\n",
        ".\n",
        "\n",
        "🎯 Important Notes on __del__:\n",
        "1.Garbage Collection Timing:\n",
        "\n",
        ".Uncertainty of Invocation: The exact time when __del__ is called is not guaranteed. Python uses reference counting and a garbage collector to manage memory, so the __del__ method is invoked when the object is garbage collected, which could be at an indeterminate point in time.\n",
        "\n",
        ".If there are circular references between objects, Python’s garbage collector may delay the destruction of those objects, and thus the __del__ method may not be called immediately or at all.\n",
        "\n",
        "2.Use with Caution:\n",
        "\n",
        ".Since __del__ is not guaranteed to be called immediately, relying on it for critical resource management (like closing files or database connections) can be risky. Instead, it is recommended to use context managers (via with statements) for managing resources when possible.\n",
        "\n",
        "3.Circular References:\n",
        "\n",
        ".If your object is part of a circular reference (i.e., two or more objects reference each other), and the reference count does not reach zero, the object may not be garbage collected, and the __del__ method may not be called.\n",
        "\n",
        ".To handle circular references effectively, it’s often better to explicitly manage resource cleanup via context managers or manual cleanup methods.\n",
        "\n",
        "3.__del__ and Exception Handling:\n",
        "\n",
        ".If an exception occurs inside the __del__ method, it can be tricky to handle because Python will silently ignore any exceptions raised within __del__. It is important to design the __del__ method to be robust and not to raise unexpected exceptions.\n",
        "\n",
        "🎯 Best Practices for Resource Cleanup:\n",
        "1.Use Context Managers (with statement): For managing resources such as file handles, database connections, etc., it is recommended to use context managers. The with statement automatically manages resource acquisition and release, ensuring that cleanup happens reliably.\n",
        "2.Manual Cleanup: In some cases, you can define a manual cleanup method that you explicitly call when you're done with an object. This can be useful if you're dealing with external resources that need to be cleaned up at a specific time.\n",
        "\n",
        "22) What is the difference between @staticmethod and @classmethod in Python?\n",
        "Ans:- 🧑‍🏫 Difference Between @staticmethod and @classmethod in Python\n",
        "In Python, both @staticmethod and @classmethod are decorators used to define methods inside a class that are not regular instance methods. While they are similar in that they do not operate on an instance (self) of the class, they differ in what they receive as their first argument and how they are typically used.\n",
        "\n",
        "🔹 1. @staticmethod\n",
        "A static method does not take self or cls as the first argument. It behaves just like a regular function but lives inside the class’s namespace.\n",
        "\n",
        ".It does not have access to:\n",
        "\n",
        ".Instance (self)\n",
        "\n",
        ".Class (cls)\n",
        "\n",
        ".Use case: When you want a utility function that belongs to the class logically but doesn’t need to access the class or instance.\n",
        "\n",
        "\n",
        "🔹 2. @classmethod\n",
        "A class method receives the class (cls) as its first argument instead of the instance (self). This means it can access and modify class state.\n",
        "\n",
        ".It has access to:\n",
        "\n",
        ".Class variables\n",
        "\n",
        ".Other class methods\n",
        "\n",
        ".Use case: When you want to create factory methods or need to modify or access the class itself.\n",
        "\n",
        "🔁 Comparison Table\n",
        "Feature\t@staticmethod\t@classmethod\n",
        "First Argument\tNone\tcls (the class itself)\n",
        "Access Instance (self)?\t❌ No\t❌ No\n",
        "Access Class (cls)?\t❌ No\t✅ Yes\n",
        "Can modify class state?\t❌ No\t✅ Yes\n",
        "Can be called from class?\t✅ Yes\t✅ Yes\n",
        "Use case\tUtility/helper methods\tFactory methods, class-level operations\n",
        "\n",
        "23) How does polymorphism work in Python with inheritance?\n",
        "\n",
        "Ans:- :\n",
        "🧑‍🏫 How Polymorphism Works in Python with Inheritance\n",
        "Polymorphism is a core concept in Object-Oriented Programming (OOP) that allows objects of different classes to be treated as objects of a common superclass. In Python, polymorphism with inheritance allows methods in different subclasses to have the same name but different behaviors, depending on the class that is implementing them.\n",
        "\n",
        "This enables code reusability and flexibility, because you can write code that works with objects of different types as long as they implement the same interface or method name.\n",
        "\n",
        "🎯 Key Concept: Same Method Name, Different Implementations\n",
        "When a subclass overrides a method from a parent class, and multiple classes implement the same method in different ways, you can call that method on any object without knowing its exact class.\n",
        "\n",
        "🧠 Why Is This Useful?\n",
        ".It allows you to write generic code that works with a wide variety of objects, as long as they implement certain methods.\n",
        "\n",
        ".It supports the Open/Closed Principle: you can add new classes (e.g., Bird, Horse, etc.) without modifying the existing logic.\n",
        "\n",
        "✅ Key Takeaways:\n",
        "Feature\tDescription\n",
        "What is it?\tOne interface, many implementations\n",
        "How it works?\tSubclasses override methods from a superclass\n",
        "Benefit\tCode that is more reusable, extensible, and easier to maintain\n",
        "Real-world use\tWriting functions that accept a superclass but work with any subclass\n",
        "\n",
        "\n",
        "24) What is method chaining in Python OOP?\n",
        "\n",
        "Ans:- 🧑‍🏫 What is Method Chaining in Python OOP?\n",
        "Method chaining in Python is a programming technique where multiple methods are called in a single line, one after another, using dot notation. It is commonly used in Object-Oriented Programming (OOP) to make code more concise, readable, and fluent.\n",
        "\n",
        "🎯 How Method Chaining Works\n",
        "For method chaining to work, each method must return the object itself (usually self). This allows the next method to be called on the same instance.\n",
        "\n",
        "\n",
        "🔁 Chaining Internally\n",
        "Each call like .set_name(\"Alice\") modifies the object and returns self, so you can call .set_age(30) on the same object, and then .show().\n",
        "\n",
        "🔧 Why Use Method Chaining?\n",
        "Benefit\tDescription\n",
        "✔ Fluent interface\tImproves readability by chaining related operations\n",
        "✔ Concise code\tReduces the need for multiple lines\n",
        "✔ Clean syntax\tAvoids repetitive variable references\n",
        "✔ Good for configuration\tOften used in builders, config setup, or object initialization\n",
        "\n",
        "✅ Summary\n",
        "Feature\tMethod Chaining\n",
        "What is it?\tCalling multiple methods on the same object in a single line\n",
        "Requires?\tEach method to return self\n",
        "Use cases?\tFluent interfaces, object setup, query builders\n",
        "Benefits?\tConcise, readable, expressive code\n",
        "\n",
        "\n",
        "25) What is the purpose of the __call__ method in Python?\n",
        "\n",
        "Ans:- :\n",
        "🧑‍🏫 Purpose of the __call__ Method in Python\n",
        "In Python, the __call__ method is a special (magic or dunder) method that allows an instance of a class to be called like a function.\n",
        "\n",
        "When you define the __call__ method in a class, you make its objects callable—i.e., you can use parentheses after the object name and pass arguments just like calling a function.\n",
        "\n",
        "🎯 Why Use __call__?\n",
        "To treat objects like functions.\n",
        "\n",
        "To implement functors (function-like objects).\n",
        "\n",
        "To add flexibility and make code more intuitive.\n",
        "\n",
        "Useful in design patterns, decorators, or any case where an object should behave like a function.\n",
        "\n",
        "✅ Summary\n",
        "Feature\tDescription\n",
        "Method\t__call__(self, *args, **kwargs)\n",
        "Makes object callable\t✅ Yes, behaves like a function\n",
        "Typical use cases\tFunctors, decorators, dynamic APIs, callable state\n",
        "Called like\tobj(args) → translates to obj.__call__(args)\n",
        "\n",
        "\n",
        "\n",
        "\n",
        "\n",
        "\n",
        "\n",
        "1) Create a parent class Animal with a method speak() that prints a generic message. Create a child class Dog\n",
        "that overrides the speak() method to print \"Bark!\".\n",
        "\n",
        "Ans:-\n",
        "\n"
      ],
      "metadata": {
        "id": "ccdhOCG4W07c"
      }
    },
    {
      "cell_type": "code",
      "source": [
        "# Parent class\n",
        "class Animal:\n",
        "    def speak(self):\n",
        "        print(\"The animal makes a sound.\")\n",
        "\n",
        "# Child class\n",
        "class Dog(Animal):\n",
        "    def speak(self):\n",
        "        print(\"Bark!\")\n",
        "\n",
        "# Example usage\n",
        "generic_animal = Animal()\n",
        "generic_animal.speak()  # Output: The animal makes a sound.\n",
        "\n",
        "dog = Dog()\n",
        "dog.speak()             # Output: Bark!\n"
      ],
      "metadata": {
        "id": "0WFZpFmFO9Bc",
        "outputId": "da1cb796-2ced-4129-a3ff-631f9842ce05",
        "colab": {
          "base_uri": "https://localhost:8080/"
        }
      },
      "execution_count": 1,
      "outputs": [
        {
          "output_type": "stream",
          "name": "stdout",
          "text": [
            "The animal makes a sound.\n",
            "Bark!\n"
          ]
        }
      ]
    },
    {
      "cell_type": "markdown",
      "source": [
        "2) Write a program to create an abstract class Shape with a method area(). Derive classes Circle and Rectangle\n",
        "from it and implement the area() method in both?\n",
        "Ans:-  "
      ],
      "metadata": {
        "id": "9oDFGyj2O_Ab"
      }
    },
    {
      "cell_type": "code",
      "source": [
        "from abc import ABC, abstractmethod\n",
        "import math\n",
        "\n",
        "# Abstract base class\n",
        "class Shape(ABC):\n",
        "    @abstractmethod\n",
        "    def area(self):\n",
        "        pass\n",
        "\n",
        "# Derived class: Circle\n",
        "class Circle(Shape):\n",
        "    def __init__(self, radius):\n",
        "        self.radius = radius\n",
        "\n",
        "    def area(self):\n",
        "        return math.pi * self.radius ** 2\n",
        "\n",
        "# Derived class: Rectangle\n",
        "class Rectangle(Shape):\n",
        "    def __init__(self, width, height):\n",
        "        self.width = width\n",
        "        self.height = height\n",
        "\n",
        "    def area(self):\n",
        "        return self.width * self.height\n",
        "\n",
        "# Example usage\n",
        "circle = Circle(5)\n",
        "rectangle = Rectangle(4, 6)\n",
        "\n",
        "print(f\"Area of circle: {circle.area():.2f}\")      # Output: Area of circle: 78.54\n",
        "print(f\"Area of rectangle: {rectangle.area()}\")    # Output: Area of rectangle: 24\n",
        "\n"
      ],
      "metadata": {
        "id": "EWtXIk3dPTiy",
        "outputId": "415a42e0-02d0-43a0-bb30-c951da689533",
        "colab": {
          "base_uri": "https://localhost:8080/"
        }
      },
      "execution_count": 2,
      "outputs": [
        {
          "output_type": "stream",
          "name": "stdout",
          "text": [
            "Area of circle: 78.54\n",
            "Area of rectangle: 24\n"
          ]
        }
      ]
    },
    {
      "cell_type": "markdown",
      "source": [
        "3. Implement a multi-level inheritance scenario where a class Vehicle has an attribute type. Derive a class Car\n",
        "and further derive a class ElectricCar that adds a battery attribute.\n",
        "\n",
        "Ans:-"
      ],
      "metadata": {
        "id": "_vdFP5EDPVlN"
      }
    },
    {
      "cell_type": "code",
      "source": [
        "# Base class\n",
        "class Vehicle:\n",
        "    def __init__(self, vehicle_type):\n",
        "        self.type = vehicle_type\n",
        "\n",
        "    def show_type(self):\n",
        "        print(f\"Vehicle type: {self.type}\")\n",
        "\n",
        "# Derived class\n",
        "class Car(Vehicle):\n",
        "    def __init__(self, vehicle_type, brand):\n",
        "        super().__init__(vehicle_type)\n",
        "        self.brand = brand\n",
        "\n",
        "    def show_brand(self):\n",
        "        print(f\"Car brand: {self.brand}\")\n",
        "\n",
        "# Further derived class\n",
        "class ElectricCar(Car):\n",
        "    def __init__(self, vehicle_type, brand, battery_capacity):\n",
        "        super().__init__(vehicle_type, brand)\n",
        "        self.battery = battery_capacity\n",
        "\n",
        "    def show_battery(self):\n",
        "        print(f\"Battery capacity: {self.battery} kWh\")\n",
        "\n",
        "# Example usage\n",
        "my_ecar = ElectricCar(\"Four-wheeler\", \"Tesla\", 75)\n",
        "\n",
        "my_ecar.show_type()      # Output: Vehicle type: Four-wheeler\n",
        "my_ecar.show_brand()     # Output: Car brand: Tesla\n",
        "my_ecar.show_battery()   # Output: Battery capacity: 75 kWh\n"
      ],
      "metadata": {
        "id": "YUFXZ4JMPh7o",
        "outputId": "67c0ae11-b32d-4c0a-f555-816064f140e3",
        "colab": {
          "base_uri": "https://localhost:8080/"
        }
      },
      "execution_count": 3,
      "outputs": [
        {
          "output_type": "stream",
          "name": "stdout",
          "text": [
            "Vehicle type: Four-wheeler\n",
            "Car brand: Tesla\n",
            "Battery capacity: 75 kWh\n"
          ]
        }
      ]
    },
    {
      "cell_type": "markdown",
      "source": [
        "4. Demonstrate polymorphism by creating a base class Bird with a method fly(). Create two derived classes\n",
        "Sparrow and Penguin that override the fly() method.\n",
        "Ans:-\n"
      ],
      "metadata": {
        "id": "-yRaGH7pPlHY"
      }
    },
    {
      "cell_type": "code",
      "source": [
        "# Base class\n",
        "class Bird:\n",
        "    def fly(self):\n",
        "        print(\"Some birds can fly.\")\n",
        "\n",
        "# Derived class 1\n",
        "class Sparrow(Bird):\n",
        "    def fly(self):\n",
        "        print(\"Sparrow flies high in the sky.\")\n",
        "\n",
        "# Derived class 2\n",
        "class Penguin(Bird):\n",
        "    def fly(self):\n",
        "        print(\"Penguins cannot fly, they swim.\")\n",
        "\n",
        "# Function that demonstrates polymorphism\n",
        "def make_bird_fly(bird: Bird):\n",
        "    bird.fly()\n",
        "\n",
        "# Example usage\n",
        "birds = [Sparrow(), Penguin()]\n",
        "\n",
        "for b in birds:\n",
        "    make_bird_fly(b)\n"
      ],
      "metadata": {
        "id": "z0-7nEhtPp8a",
        "outputId": "1e6cda23-de4d-40e8-dc86-25ea5e76638b",
        "colab": {
          "base_uri": "https://localhost:8080/"
        }
      },
      "execution_count": 4,
      "outputs": [
        {
          "output_type": "stream",
          "name": "stdout",
          "text": [
            "Sparrow flies high in the sky.\n",
            "Penguins cannot fly, they swim.\n"
          ]
        }
      ]
    },
    {
      "cell_type": "markdown",
      "source": [
        "5. Write a program to demonstrate encapsulation by creating a class BankAccount with private attributes\n",
        "balance and methods to deposit, withdraw, and check balance.\n",
        "\n",
        "Ans:-\n"
      ],
      "metadata": {
        "id": "BaZ0S71ZPtGK"
      }
    },
    {
      "cell_type": "code",
      "source": [
        "class BankAccount:\n",
        "    def __init__(self, initial_balance=0):\n",
        "        self.__balance = initial_balance  # Private attribute\n",
        "\n",
        "    def deposit(self, amount):\n",
        "        if amount > 0:\n",
        "            self.__balance += amount\n",
        "            print(f\"Deposited: ${amount}\")\n",
        "        else:\n",
        "            print(\"Invalid deposit amount.\")\n",
        "\n",
        "    def withdraw(self, amount):\n",
        "        if 0 < amount <= self.__balance:\n",
        "            self.__balance -= amount\n",
        "            print(f\"Withdrew: ${amount}\")\n",
        "        else:\n",
        "            print(\"Invalid or insufficient funds.\")\n",
        "\n",
        "    def check_balance(self):\n",
        "        print(f\"Current balance: ${self.__balance}\")\n",
        "\n",
        "# Example usage\n",
        "account = BankAccount(100)\n",
        "\n",
        "account.check_balance()   # Output: Current balance: $100\n",
        "account.deposit(50)       # Output: Deposited: $50\n",
        "account.withdraw(30)      # Output: Withdrew: $30\n",
        "account.check_balance()   # Output: Current balance: $120\n",
        "\n",
        "# Trying to access the private attribute directly (will raise an AttributeError)\n",
        "# print(account.__balance)  # ❌ This will fail\n",
        "\n",
        "# Accessing the private variable (not recommended, but possible via name mangling)\n",
        "# print(account._BankAccount__balance)  # ⚠️ Use only for debugging\n"
      ],
      "metadata": {
        "id": "NWfes1RPPzXn",
        "outputId": "3267d5d7-7bb4-459c-c3c5-4d818e818568",
        "colab": {
          "base_uri": "https://localhost:8080/"
        }
      },
      "execution_count": 5,
      "outputs": [
        {
          "output_type": "stream",
          "name": "stdout",
          "text": [
            "Current balance: $100\n",
            "Deposited: $50\n",
            "Withdrew: $30\n",
            "Current balance: $120\n"
          ]
        }
      ]
    },
    {
      "cell_type": "markdown",
      "source": [
        "6. Demonstrate runtime polymorphism using a method play() in a base class Instrument. Derive classes Guitar\n",
        "and Piano that implement their own version of play().\n",
        "Ans:-"
      ],
      "metadata": {
        "id": "lkcJkeGDP3q7"
      }
    },
    {
      "cell_type": "code",
      "source": [
        "# Base class\n",
        "class Instrument:\n",
        "    def play(self):\n",
        "        print(\"Playing an instrument.\")\n",
        "\n",
        "# Derived class: Guitar\n",
        "class Guitar(Instrument):\n",
        "    def play(self):\n",
        "        print(\"Strumming the guitar.\")\n",
        "\n",
        "# Derived class: Piano\n",
        "class Piano(Instrument):\n",
        "    def play(self):\n",
        "        print(\"Playing the piano.\")\n",
        "\n",
        "# Function to demonstrate runtime polymorphism\n",
        "def perform(instrument: Instrument):\n",
        "    instrument.play()\n",
        "\n",
        "# Example usage\n",
        "instruments = [Guitar(), Piano()]\n",
        "\n",
        "for instr in instruments:\n",
        "    perform(instr)\n"
      ],
      "metadata": {
        "id": "O1hbgUxeQA1R",
        "outputId": "adc82f42-ebac-4aa9-b11c-c6983f3de6f2",
        "colab": {
          "base_uri": "https://localhost:8080/"
        }
      },
      "execution_count": 6,
      "outputs": [
        {
          "output_type": "stream",
          "name": "stdout",
          "text": [
            "Strumming the guitar.\n",
            "Playing the piano.\n"
          ]
        }
      ]
    },
    {
      "cell_type": "markdown",
      "source": [
        "7. Create a class MathOperations with a class method add_numbers() to add two numbers and a static\n",
        "method subtract_numbers() to subtract two numbers.\n",
        "Ans:-"
      ],
      "metadata": {
        "id": "Lk1UUqvOQCIs"
      }
    },
    {
      "cell_type": "code",
      "source": [
        "class MathOperations:\n",
        "    # Class method to add two numbers\n",
        "    @classmethod\n",
        "    def add_numbers(cls, a, b):\n",
        "        return a + b\n",
        "\n",
        "    # Static method to subtract two numbers\n",
        "    @staticmethod\n",
        "    def subtract_numbers(a, b):\n",
        "        return a - b\n",
        "\n",
        "# Example usage\n",
        "sum_result = MathOperations.add_numbers(10, 5)   # Calling class method\n",
        "difference_result = MathOperations.subtract_numbers(10, 5)  # Calling static method\n",
        "\n",
        "print(f\"Sum: {sum_result}\")          # Output: Sum: 15\n",
        "print(f\"Difference: {difference_result}\")  # Output: Difference: 5\n"
      ],
      "metadata": {
        "id": "PajudZ7vQHHB",
        "outputId": "88fd15b7-ab57-4bdd-cfb5-97594b0046c8",
        "colab": {
          "base_uri": "https://localhost:8080/"
        }
      },
      "execution_count": 7,
      "outputs": [
        {
          "output_type": "stream",
          "name": "stdout",
          "text": [
            "Sum: 15\n",
            "Difference: 5\n"
          ]
        }
      ]
    },
    {
      "cell_type": "markdown",
      "source": [
        "8. Implement a class Person with a class method to count the total number of persons created.\n",
        "\n",
        "Ans:-"
      ],
      "metadata": {
        "id": "EP_Q-5FUQJlH"
      }
    },
    {
      "cell_type": "code",
      "source": [
        "class Person:\n",
        "    # Class attribute to keep track of the number of persons\n",
        "    total_persons = 0\n",
        "\n",
        "    def __init__(self, name):\n",
        "        self.name = name\n",
        "        # Increment the total number of persons when a new object is created\n",
        "        Person.total_persons += 1\n",
        "\n",
        "    @classmethod\n",
        "    def get_total_persons(cls):\n",
        "        return cls.total_persons\n",
        "\n",
        "# Example usage\n",
        "person1 = Person(\"Alice\")\n",
        "person2 = Person(\"Bob\")\n",
        "person3 = Person(\"Charlie\")\n",
        "\n",
        "# Accessing the class method to get the total count of persons\n",
        "print(f\"Total persons created: {Person.get_total_persons()}\")  # Output: Total persons created: 3\n"
      ],
      "metadata": {
        "id": "-y-_vpxMQRim",
        "outputId": "7e84caa9-d6bf-44ad-e5f9-fab028626e04",
        "colab": {
          "base_uri": "https://localhost:8080/"
        }
      },
      "execution_count": 8,
      "outputs": [
        {
          "output_type": "stream",
          "name": "stdout",
          "text": [
            "Total persons created: 3\n"
          ]
        }
      ]
    },
    {
      "cell_type": "markdown",
      "source": [
        "9. Write a class Fraction with attributes numerator and denominator. Override the str method to display the\n",
        "fraction as \"numerator/denominator\".\n",
        "\n",
        "Ans:-"
      ],
      "metadata": {
        "id": "V0uuQSkgQUHD"
      }
    },
    {
      "cell_type": "code",
      "source": [
        "class Fraction:\n",
        "    def __init__(self, numerator, denominator):\n",
        "        self.numerator = numerator\n",
        "        self.denominator = denominator\n",
        "\n",
        "    # Override the __str__ method to return a string representation of the fraction\n",
        "    def __str__(self):\n",
        "        return f\"{self.numerator}/{self.denominator}\"\n",
        "\n",
        "# Example usage\n",
        "fraction1 = Fraction(3, 4)\n",
        "fraction2 = Fraction(5, 8)\n",
        "\n",
        "print(fraction1)  # Output: 3/4\n",
        "print(fraction2)  # Output: 5/8\n"
      ],
      "metadata": {
        "id": "3BT339k9QbnB",
        "outputId": "a861a221-d43c-4b39-c78c-96a37e9f1601",
        "colab": {
          "base_uri": "https://localhost:8080/"
        }
      },
      "execution_count": 9,
      "outputs": [
        {
          "output_type": "stream",
          "name": "stdout",
          "text": [
            "3/4\n",
            "5/8\n"
          ]
        }
      ]
    },
    {
      "cell_type": "markdown",
      "source": [
        "10. Demonstrate operator overloading by creating a class Vector and overriding the add method to add two\n",
        "vectors.\n",
        "\n",
        "Ans:-"
      ],
      "metadata": {
        "id": "rshnKFwrQfDX"
      }
    },
    {
      "cell_type": "code",
      "source": [
        "class Vector:\n",
        "    def __init__(self, x, y):\n",
        "        self.x = x\n",
        "        self.y = y\n",
        "\n",
        "    # Overloading the + operator using the __add__ method\n",
        "    def __add__(self, other):\n",
        "        if isinstance(other, Vector):\n",
        "            # Adding corresponding components of the two vectors\n",
        "            return Vector(self.x + other.x, self.y + other.y)\n",
        "        else:\n",
        "            raise TypeError(\"Operand must be of type Vector\")\n",
        "\n",
        "    # To display the vector in a readable format\n",
        "    def __str__(self):\n",
        "        return f\"({self.x}, {self.y})\"\n",
        "\n",
        "# Example usage\n",
        "vector1 = Vector(2, 3)\n",
        "vector2 = Vector(4, 5)\n",
        "\n",
        "# Using the overloaded + operator to add two vectors\n",
        "result = vector1 + vector2\n",
        "\n",
        "print(f\"Vector 1: {vector1}\")  # Output: Vector 1: (2, 3)\n",
        "print(f\"Vector 2: {vector2}\")  # Output: Vector 2: (4, 5)\n",
        "print(f\"Result of addition: {result}\")  # Output: Result of addition: (6, 8)\n"
      ],
      "metadata": {
        "id": "YRvlNHQlQkD2",
        "outputId": "b2215e4d-3a36-49ff-d505-176feb991358",
        "colab": {
          "base_uri": "https://localhost:8080/"
        }
      },
      "execution_count": 10,
      "outputs": [
        {
          "output_type": "stream",
          "name": "stdout",
          "text": [
            "Vector 1: (2, 3)\n",
            "Vector 2: (4, 5)\n",
            "Result of addition: (6, 8)\n"
          ]
        }
      ]
    },
    {
      "cell_type": "markdown",
      "source": [
        "11. Create a class Person with attributes name and age. Add a method greet() that prints \"Hello, my name is\n",
        "{name} and I am {age} years old.\"\n",
        "\n",
        "Ans:-\n"
      ],
      "metadata": {
        "id": "46TMqEfYQnBa"
      }
    },
    {
      "cell_type": "code",
      "source": [
        "class Person:\n",
        "    def __init__(self, name, age):\n",
        "        self.name = name\n",
        "        self.age = age\n",
        "\n",
        "    # Method to greet the person\n",
        "    def greet(self):\n",
        "        print(f\"Hello, my name is {self.name} and I am {self.age} years old.\")\n",
        "\n",
        "# Example usage\n",
        "person1 = Person(\"Alice\", 30)\n",
        "person2 = Person(\"Bob\", 25)\n",
        "\n",
        "person1.greet()  # Output: Hello, my name is Alice and I am 30 years old.\n",
        "person2.greet()  # Output: Hello, my name is Bob and I am 25 years old.\n"
      ],
      "metadata": {
        "id": "Q7469T3TQxUJ",
        "outputId": "34432090-d219-4e25-895e-1db2731a3232",
        "colab": {
          "base_uri": "https://localhost:8080/"
        }
      },
      "execution_count": 11,
      "outputs": [
        {
          "output_type": "stream",
          "name": "stdout",
          "text": [
            "Hello, my name is Alice and I am 30 years old.\n",
            "Hello, my name is Bob and I am 25 years old.\n"
          ]
        }
      ]
    },
    {
      "cell_type": "markdown",
      "source": [
        "12. Implement a class Student with attributes name and grades. Create a method average_grade() to compute\n",
        "the average of the grades.\n",
        "\n",
        "Ans:-\n"
      ],
      "metadata": {
        "id": "pb-NDjhKQ1R0"
      }
    },
    {
      "cell_type": "code",
      "source": [
        "class Student:\n",
        "    def __init__(self, name, grades):\n",
        "        self.name = name\n",
        "        self.grades = grades  # List of grades\n",
        "\n",
        "    # Method to compute the average of grades\n",
        "    def average_grade(self):\n",
        "        if len(self.grades) == 0:\n",
        "            return 0  # Return 0 if no grades are present\n",
        "        return sum(self.grades) / len(self.grades)\n",
        "\n",
        "# Example usage\n",
        "student1 = Student(\"Alice\", [85, 90, 78, 92])\n",
        "student2 = Student(\"Bob\", [88, 79, 84, 91])\n",
        "\n",
        "# Printing the average grades\n",
        "print(f\"{student1.name}'s average grade: {student1.average_grade():.2f}\")  # Output: Alice's average grade: 86.25\n",
        "print(f\"{student2.name}'s average grade: {student2.average_grade():.2f}\")  # Output: Bob's average grade: 85.50\n"
      ],
      "metadata": {
        "id": "SyBJI97oQ-90",
        "outputId": "8492303f-adf1-4cda-97ba-7fef919d3853",
        "colab": {
          "base_uri": "https://localhost:8080/"
        }
      },
      "execution_count": 12,
      "outputs": [
        {
          "output_type": "stream",
          "name": "stdout",
          "text": [
            "Alice's average grade: 86.25\n",
            "Bob's average grade: 85.50\n"
          ]
        }
      ]
    },
    {
      "cell_type": "markdown",
      "source": [
        "13. Create a class Rectangle with methods set_dimensions() to set the dimensions and area() to calculate the\n",
        "area.\n",
        "\n",
        "Ans:-\n"
      ],
      "metadata": {
        "id": "CSoAPwq-RByf"
      }
    },
    {
      "cell_type": "code",
      "source": [
        "class Rectangle:\n",
        "    def __init__(self):\n",
        "        self.length = 0\n",
        "        self.width = 0\n",
        "\n",
        "    # Method to set the dimensions of the rectangle\n",
        "    def set_dimensions(self, length, width):\n",
        "        self.length = length\n",
        "        self.width = width\n",
        "\n",
        "    # Method to calculate the area of the rectangle\n",
        "    def area(self):\n",
        "        return self.length * self.width\n",
        "\n",
        "# Example usage\n",
        "rectangle1 = Rectangle()\n",
        "rectangle1.set_dimensions(5, 3)  # Setting length and width\n",
        "print(f\"Area of rectangle: {rectangle1.area()}\")  # Output: Area of rectangle: 15\n",
        "\n",
        "rectangle2 = Rectangle()\n",
        "rectangle2.set_dimensions(7, 4)  # Setting length and width\n",
        "print(f\"Area of rectangle: {rectangle2.area()}\")  # Output: Area of rectangle: 28\n"
      ],
      "metadata": {
        "id": "_0-IxCzpRKqU",
        "outputId": "ba313052-274a-4d65-e8d3-a45ee4e52287",
        "colab": {
          "base_uri": "https://localhost:8080/"
        }
      },
      "execution_count": 13,
      "outputs": [
        {
          "output_type": "stream",
          "name": "stdout",
          "text": [
            "Area of rectangle: 15\n",
            "Area of rectangle: 28\n"
          ]
        }
      ]
    },
    {
      "cell_type": "markdown",
      "source": [
        "14. Create a class Employee with a method calculate_salary() that computes the salary based on hours worked\n",
        "and hourly rate. Create a derived class Manager that adds a bonus to the salary.\n",
        "\n",
        "Ans:-"
      ],
      "metadata": {
        "id": "d7nU7VfoRNKR"
      }
    },
    {
      "cell_type": "code",
      "source": [
        "class Employee:\n",
        "    def __init__(self, name, hours_worked, hourly_rate):\n",
        "        self.name = name\n",
        "        self.hours_worked = hours_worked\n",
        "        self.hourly_rate = hourly_rate\n",
        "\n",
        "    # Method to calculate the salary based on hours worked and hourly rate\n",
        "    def calculate_salary(self):\n",
        "        return self.hours_worked * self.hourly_rate\n",
        "\n",
        "class Manager(Employee):\n",
        "    def __init__(self, name, hours_worked, hourly_rate, bonus):\n",
        "        # Calling the parent class (Employee) constructor\n",
        "        super().__init__(name, hours_worked, hourly_rate)\n",
        "        self.bonus = bonus\n",
        "\n",
        "    # Overriding the calculate_salary method to add bonus\n",
        "    def calculate_salary(self):\n",
        "        base_salary = super().calculate_salary()  # Base salary from Employee class\n",
        "        return base_salary + self.bonus  # Add the bonus to the salary\n",
        "\n",
        "# Example usage\n",
        "employee1 = Employee(\"Alice\", 160, 25)  # 160 hours worked, $25/hour\n",
        "employee2 = Manager(\"Bob\", 160, 30, 500)  # 160 hours worked, $30/hour, $500 bonus\n",
        "\n",
        "# Calculating salaries\n",
        "print(f\"{employee1.name}'s salary: ${employee1.calculate_salary()}\")  # Output: Alice's salary: $4000\n",
        "print(f\"{employee2.name}'s salary: ${employee2.calculate_salary()}\")  # Output: Bob's salary: $5300\n"
      ],
      "metadata": {
        "id": "vZMf-SWsRUtv",
        "outputId": "87e2e03d-9f3c-472e-f196-4ea0b1c32981",
        "colab": {
          "base_uri": "https://localhost:8080/"
        }
      },
      "execution_count": 14,
      "outputs": [
        {
          "output_type": "stream",
          "name": "stdout",
          "text": [
            "Alice's salary: $4000\n",
            "Bob's salary: $5300\n"
          ]
        }
      ]
    },
    {
      "cell_type": "markdown",
      "source": [
        "15. Create a class Product with attributes name, price, and quantity. Implement a method total_price() that\n",
        "calculates the total price of the product.\n",
        "\n",
        "Ans:-"
      ],
      "metadata": {
        "id": "4tn-N9OZRYso"
      }
    },
    {
      "cell_type": "code",
      "source": [
        "class Product:\n",
        "    def __init__(self, name, price, quantity):\n",
        "        self.name = name\n",
        "        self.price = price\n",
        "        self.quantity = quantity\n",
        "\n",
        "    # Method to calculate the total price of the product\n",
        "    def total_price(self):\n",
        "        return self.price * self.quantity\n",
        "\n",
        "# Example usage\n",
        "product1 = Product(\"Laptop\", 1000, 3)\n",
        "product2 = Product(\"Phone\", 500, 5)\n",
        "\n",
        "# Calculating total prices\n",
        "print(f\"Total price of {product1.name}: ${product1.total_price()}\")  # Output: Total price of Laptop: $3000\n",
        "print(f\"Total price of {product2.name}: ${product2.total_price()}\")  # Output: Total price of Phone: $2500\n"
      ],
      "metadata": {
        "id": "Li_rbcEFRgFp",
        "outputId": "b538ee41-7725-4979-b70e-a6e1e77aa136",
        "colab": {
          "base_uri": "https://localhost:8080/"
        }
      },
      "execution_count": 15,
      "outputs": [
        {
          "output_type": "stream",
          "name": "stdout",
          "text": [
            "Total price of Laptop: $3000\n",
            "Total price of Phone: $2500\n"
          ]
        }
      ]
    },
    {
      "cell_type": "markdown",
      "source": [
        "16. Create a class Animal with an abstract method sound(). Create two derived classes Cow and Sheep that\n",
        "implement the sound() method.\n",
        "\n",
        "Ans:-\n"
      ],
      "metadata": {
        "id": "FeQSpy-bRi-q"
      }
    },
    {
      "cell_type": "code",
      "source": [
        "from abc import ABC, abstractmethod\n",
        "\n",
        "# Abstract base class Animal\n",
        "class Animal(ABC):\n",
        "    @abstractmethod\n",
        "    def sound(self):\n",
        "        pass  # The derived classes must implement this method\n",
        "\n",
        "# Derived class Cow\n",
        "class Cow(Animal):\n",
        "    def sound(self):\n",
        "        return \"Moo\"\n",
        "\n",
        "# Derived class Sheep\n",
        "class Sheep(Animal):\n",
        "    def sound(self):\n",
        "        return \"Baa\"\n",
        "\n",
        "# Example usage\n",
        "cow = Cow()\n",
        "sheep = Sheep()\n",
        "\n",
        "print(f\"Cow sound: {cow.sound()}\")  # Output: Cow sound: Moo\n",
        "print(f\"Sheep sound: {sheep.sound()}\")  # Output: Sheep sound: Baa\n"
      ],
      "metadata": {
        "id": "pbnlloB_Rrs8",
        "outputId": "c8e60e95-e851-44e8-98bd-3be07603e11e",
        "colab": {
          "base_uri": "https://localhost:8080/"
        }
      },
      "execution_count": 16,
      "outputs": [
        {
          "output_type": "stream",
          "name": "stdout",
          "text": [
            "Cow sound: Moo\n",
            "Sheep sound: Baa\n"
          ]
        }
      ]
    },
    {
      "cell_type": "markdown",
      "source": [
        "17. Create a class Book with attributes title, author, and year_published. Add a method get_book_info() that\n",
        "returns a formatted string with the book's details.\n",
        "\n",
        "Ans:-"
      ],
      "metadata": {
        "id": "LLMC6SCWRvHO"
      }
    },
    {
      "cell_type": "code",
      "source": [
        "class Book:\n",
        "    def __init__(self, title, author, year_published):\n",
        "        self.title = title\n",
        "        self.author = author\n",
        "        self.year_published = year_published\n",
        "\n",
        "    # Method to get formatted book information\n",
        "    def get_book_info(self):\n",
        "        return f\"Title: {self.title}\\nAuthor: {self.author}\\nYear Published: {self.year_published}\"\n",
        "\n",
        "# Example usage\n",
        "book1 = Book(\"To Kill a Mockingbird\", \"Harper Lee\", 1960)\n",
        "book2 = Book(\"1984\", \"George Orwell\", 1949)\n",
        "\n",
        "# Printing the book information\n",
        "print(book1.get_book_info())\n",
        "# Output:\n",
        "# Title: To Kill a Mockingbird\n",
        "# Author: Harper Lee\n",
        "# Year Published: 1960\n",
        "\n",
        "print(book2.get_book_info())\n",
        "# Output:\n",
        "# Title: 1984\n",
        "# Author: George Orwell\n",
        "# Year Published: 1949\n"
      ],
      "metadata": {
        "id": "EW41nxkHR4d_",
        "outputId": "96fc880a-4296-4db0-e1d4-52db3200fdf9",
        "colab": {
          "base_uri": "https://localhost:8080/"
        }
      },
      "execution_count": 17,
      "outputs": [
        {
          "output_type": "stream",
          "name": "stdout",
          "text": [
            "Title: To Kill a Mockingbird\n",
            "Author: Harper Lee\n",
            "Year Published: 1960\n",
            "Title: 1984\n",
            "Author: George Orwell\n",
            "Year Published: 1949\n"
          ]
        }
      ]
    },
    {
      "cell_type": "markdown",
      "source": [
        "18. Create a class House with attributes address and price. Create a derived class Mansion that adds an\n",
        "attribute number_of_rooms.\n",
        "\n",
        "Ans:-"
      ],
      "metadata": {
        "id": "mtfMTdPBR52I"
      }
    },
    {
      "cell_type": "code",
      "source": [
        "# Base class House\n",
        "class House:\n",
        "    def __init__(self, address, price):\n",
        "        self.address = address\n",
        "        self.price = price\n",
        "\n",
        "    # Method to display house information\n",
        "    def get_info(self):\n",
        "        return f\"Address: {self.address}\\nPrice: ${self.price}\"\n",
        "\n",
        "# Derived class Mansion\n",
        "class Mansion(House):\n",
        "    def __init__(self, address, price, number_of_rooms):\n",
        "        # Calling the constructor of the parent class House\n",
        "        super().__init__(address, price)\n",
        "        self.number_of_rooms = number_of_rooms\n",
        "\n",
        "    # Overriding the get_info method to include number of rooms\n",
        "    def get_info(self):\n",
        "        base_info = super().get_info()  # Get base house info\n",
        "        return f\"{base_info}\\nNumber of Rooms: {self.number_of_rooms}\"\n",
        "\n",
        "# Example usage\n",
        "house = House(\"123 Main St\", 250000)\n",
        "mansion = Mansion(\"456 Luxury Ave\", 5000000, 10)\n",
        "\n",
        "# Printing information about the house and the mansion\n",
        "print(house.get_info())\n",
        "# Output: Address: 123 Main St\n",
        "#         Price: $250000\n",
        "\n",
        "print(mansion.get_info())\n",
        "# Output: Address: 456 Luxury Ave\n",
        "#         Price: $5000000\n",
        "#         Number of Rooms: 10\n"
      ],
      "metadata": {
        "id": "UrriSqPWSGGv",
        "outputId": "1bbc5a86-cd3b-4083-d5fe-dc34d7937761",
        "colab": {
          "base_uri": "https://localhost:8080/"
        }
      },
      "execution_count": 18,
      "outputs": [
        {
          "output_type": "stream",
          "name": "stdout",
          "text": [
            "Address: 123 Main St\n",
            "Price: $250000\n",
            "Address: 456 Luxury Ave\n",
            "Price: $5000000\n",
            "Number of Rooms: 10\n"
          ]
        }
      ]
    }
  ]
}